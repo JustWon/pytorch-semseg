{
 "cells": [
  {
   "cell_type": "code",
   "execution_count": 1,
   "metadata": {},
   "outputs": [],
   "source": [
    "import sys\n",
    "import torch\n",
    "import visdom\n",
    "import argparse\n",
    "import numpy as np\n",
    "import torch.nn as nn\n",
    "import torch.nn.functional as F\n",
    "import torchvision.models as models\n",
    "\n",
    "from torch.autograd import Variable\n",
    "from torch.utils import data\n",
    "from tqdm import tqdm\n",
    "\n",
    "from ptsemseg.loader import get_loader, get_data_path\n",
    "from ptsemseg.metrics import scores\n",
    "\n",
    "from glob import glob\n",
    "import os"
   ]
  },
  {
   "cell_type": "code",
   "execution_count": 6,
   "metadata": {},
   "outputs": [
    {
     "name": "stdout",
     "output_type": "stream",
     "text": [
      "./fcn_with_maskedconv2_pascal_1_99.pkl\n"
     ]
    },
    {
     "name": "stderr",
     "output_type": "stream",
     "text": [
      "0it [00:00, ?it/s]/home/dongwonshin/.local/lib/python3.5/site-packages/torch/nn/functional.py:1423: UserWarning: nn.functional.upsample_bilinear is deprecated. Use nn.functional.upsample instead.\n",
      "  warnings.warn(\"nn.functional.upsample_bilinear is deprecated. Use nn.functional.upsample instead.\")\n",
      "1449it [02:25,  9.80it/s]\n"
     ]
    },
    {
     "name": "stdout",
     "output_type": "stream",
     "text": [
      "Mean Acc : \t 0.685762825141\n",
      "FreqW Acc : \t 0.800987092783\n",
      "Mean IoU : \t 0.537369435382\n",
      "Overall Acc: \t 0.880877329614\n",
      "0 0.879094361036\n",
      "1 0.650523495209\n",
      "2 0.210915997159\n",
      "3 0.542878266788\n",
      "4 0.473274793931\n",
      "5 0.569130828001\n",
      "6 0.70998074187\n",
      "7 0.72251401597\n",
      "8 0.649564900817\n",
      "9 0.214713399508\n",
      "10 0.473016251158\n",
      "11 0.385294705947\n",
      "12 0.619672405221\n",
      "13 0.502836571122\n",
      "14 0.54470395133\n",
      "15 0.64286033598\n",
      "16 0.354915761518\n",
      "17 0.550710436692\n",
      "18 0.365448812493\n",
      "19 0.633235119117\n",
      "20 0.589472992163\n"
     ]
    }
   ],
   "source": [
    "pkl_files = sorted(glob('./fcn_with_maskedconv2_pascal_*.pkl'))\n",
    "latest_pkl_file = max(pkl_files, key=os.path.getctime)\n",
    "print(latest_pkl_file)\n",
    "\n",
    "# Setup Dataloader\n",
    "data_loader = get_loader('pascal')\n",
    "data_path = get_data_path('pascal')\n",
    "loader = data_loader(data_path, split='val', is_transform=True, img_size=(256, 256))\n",
    "n_classes = loader.n_classes\n",
    "valloader = data.DataLoader(loader, batch_size=1, num_workers=4)\n",
    "\n",
    "# Setup Model\n",
    "model = torch.load(latest_pkl_file)\n",
    "model.eval()\n",
    "\n",
    "gts, preds = [], []\n",
    "for i, (images, labels) in tqdm(enumerate(valloader)):\n",
    "    if torch.cuda.is_available():\n",
    "        model.cuda()\n",
    "        images = Variable(images.cuda())\n",
    "        labels = Variable(labels.cuda())\n",
    "    else:\n",
    "        images = Variable(images)\n",
    "        labels = Variable(labels)\n",
    "\n",
    "    outputs = model(images)\n",
    "    pred = outputs.data.max(1)[1].cpu().numpy()\n",
    "    gt = labels.data.cpu().numpy()\n",
    "\n",
    "    for gt_, pred_ in zip(gt, pred):\n",
    "        gts.append(gt_)\n",
    "        preds.append(pred_)\n",
    "\n",
    "score, class_iou = scores(gts, preds, n_class=n_classes)\n",
    "\n",
    "for k, v in score.items():\n",
    "    print(k, v)\n",
    "\n",
    "for i in range(n_classes):\n",
    "    print(i, class_iou[i])"
   ]
  },
  {
   "cell_type": "code",
   "execution_count": 7,
   "metadata": {},
   "outputs": [
    {
     "name": "stdout",
     "output_type": "stream",
     "text": [
      "./fcn_with_maskedconv3_pascal_1.pkl\n"
     ]
    },
    {
     "name": "stderr",
     "output_type": "stream",
     "text": [
      "0it [00:00, ?it/s]/home/dongwonshin/.local/lib/python3.5/site-packages/torch/nn/functional.py:1423: UserWarning: nn.functional.upsample_bilinear is deprecated. Use nn.functional.upsample instead.\n",
      "  warnings.warn(\"nn.functional.upsample_bilinear is deprecated. Use nn.functional.upsample instead.\")\n",
      "1449it [04:15,  5.83it/s]\n"
     ]
    },
    {
     "name": "stdout",
     "output_type": "stream",
     "text": [
      "Mean Acc : \t 0.243695263895\n",
      "FreqW Acc : \t 0.657365685454\n",
      "Mean IoU : \t 0.171892179126\n",
      "Overall Acc: \t 0.777843109405\n",
      "0 0.814686322741\n",
      "1 0.104828869161\n",
      "2 0.00882305960938\n",
      "3 0.129784762364\n",
      "4 0.115823782246\n",
      "5 0.114571017306\n",
      "6 0.285365139836\n",
      "7 0.283859029249\n",
      "8 0.249419141129\n",
      "9 0.0730165614033\n",
      "10 0.147543504338\n",
      "11 0.181083117029\n",
      "12 0.0891911647832\n",
      "13 0.126932739353\n",
      "14 0.0404741319544\n",
      "15 0.362497325774\n",
      "16 0.0502872213824\n",
      "17 0.0025253205569\n",
      "18 0.110377046274\n",
      "19 0.10463484955\n",
      "20 0.214011655603\n"
     ]
    }
   ],
   "source": [
    "pkl_files = sorted(glob('./fcn_with_maskedconv3_pascal_*.pkl'))\n",
    "latest_pkl_file = max(pkl_files, key=os.path.getctime)\n",
    "print(latest_pkl_file)\n",
    "\n",
    "# Setup Dataloader\n",
    "data_loader = get_loader('pascal')\n",
    "data_path = get_data_path('pascal')\n",
    "loader = data_loader(data_path, split='val', is_transform=True, img_size=(256, 256))\n",
    "n_classes = loader.n_classes\n",
    "valloader = data.DataLoader(loader, batch_size=1, num_workers=4)\n",
    "\n",
    "# Setup Model\n",
    "model = torch.load(latest_pkl_file)\n",
    "model.eval()\n",
    "\n",
    "gts, preds = [], []\n",
    "for i, (images, labels) in tqdm(enumerate(valloader)):\n",
    "    if torch.cuda.is_available():\n",
    "        model.cuda()\n",
    "        images = Variable(images.cuda())\n",
    "        labels = Variable(labels.cuda())\n",
    "    else:\n",
    "        images = Variable(images)\n",
    "        labels = Variable(labels)\n",
    "\n",
    "    outputs = model(images)\n",
    "    pred = outputs.data.max(1)[1].cpu().numpy()\n",
    "    gt = labels.data.cpu().numpy()\n",
    "\n",
    "    for gt_, pred_ in zip(gt, pred):\n",
    "        gts.append(gt_)\n",
    "        preds.append(pred_)\n",
    "\n",
    "score, class_iou = scores(gts, preds, n_class=n_classes)\n",
    "\n",
    "for k, v in score.items():\n",
    "    print(k, v)\n",
    "\n",
    "for i in range(n_classes):\n",
    "    print(i, class_iou[i])"
   ]
  },
  {
   "cell_type": "code",
   "execution_count": null,
   "metadata": {},
   "outputs": [],
   "source": []
  }
 ],
 "metadata": {
  "kernelspec": {
   "display_name": "Python [conda env:pytorch]",
   "language": "python",
   "name": "conda-env-pytorch-py"
  },
  "language_info": {
   "codemirror_mode": {
    "name": "ipython",
    "version": 3
   },
   "file_extension": ".py",
   "mimetype": "text/x-python",
   "name": "python",
   "nbconvert_exporter": "python",
   "pygments_lexer": "ipython3",
   "version": "3.5.4"
  }
 },
 "nbformat": 4,
 "nbformat_minor": 2
}
